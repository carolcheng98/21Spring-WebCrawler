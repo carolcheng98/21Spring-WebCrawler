{
 "cells": [
  {
   "cell_type": "code",
   "execution_count": 3,
   "metadata": {},
   "outputs": [],
   "source": [
    "import matplotlib.pyplot as plt\n",
    "import PIL\n",
    "import pandas as pd\n",
    "import numpy as np\n",
    "import calendar\n",
    "import time\n",
    "import requests\n",
    "import datetime\n",
    "from bs4 import BeautifulSoup\n",
    "\n",
    "pd.options.display.max_columns = 999\n",
    "pd.options.display.max_rows = 999"
   ]
  },
  {
   "cell_type": "code",
   "execution_count": 6,
   "metadata": {},
   "outputs": [
    {
     "name": "stderr",
     "output_type": "stream",
     "text": [
      "/Users/carolcheng/opt/anaconda3/lib/python3.7/site-packages/urllib3/connectionpool.py:1004: InsecureRequestWarning: Unverified HTTPS request is being made to host 'www.alzconnected.org'. Adding certificate verification is strongly advised. See: https://urllib3.readthedocs.io/en/latest/advanced-usage.html#ssl-warnings\n",
      "  InsecureRequestWarning,\n"
     ]
    }
   ],
   "source": [
    "# get html code, convert to plaintext\n",
    "r = requests.get('https://www.alzconnected.org/discussion.aspx',verify=False)\n",
    "r.status_code\n",
    "plain=r.text"
   ]
  },
  {
   "cell_type": "code",
   "execution_count": 19,
   "metadata": {},
   "outputs": [
    {
     "name": "stdout",
     "output_type": "stream",
     "text": [
      "[<span class=\"forumheading\"><a href=\"/discussion.aspx?g=topics&amp;f=151\">Caregivers Forum</a></span>, <span class=\"forumheading\"><a href=\"/discussion.aspx?g=topics&amp;f=2147485438\">Spouse or Partner Caregiver Forum</a></span>, <span class=\"forumheading\"><a href=\"/discussion.aspx?g=topics&amp;f=160\">I Have Alzheimer’s or Another Dementia</a></span>, <span class=\"forumheading\"><a href=\"/discussion.aspx?g=topics&amp;f=152\">Younger-Onset AD or Other Dementia</a></span>, <span class=\"forumheading\"><a href=\"/discussion.aspx?g=topics&amp;f=2147806999\">LGBT Community and Allies</a></span>, <span class=\"forumheading\"><a href=\"/discussion.aspx?g=topics&amp;f=162\">Clinical Trials</a></span>, <span class=\"forumheading\"><a href=\"/discussion.aspx?g=topics&amp;f=155\">Discusiones en Español</a></span>, <span class=\"forumheading\"><a href=\"/discussion.aspx?g=topics&amp;f=461\">Caregivers Who Have Lost Someone</a></span>, <span class=\"forumheading\"><a href=\"/discussion.aspx?g=topics&amp;f=157\">Musings</a></span>, <span class=\"forumheading\"><a href=\"/discussion.aspx?g=topics&amp;f=2147501741\">ALZConnected News You Can Use</a></span>]\n"
     ]
    }
   ],
   "source": [
    "s = BeautifulSoup(plain, 'html.parser')\n",
    "#print(s)\n",
    "\n",
    "# find all by class\n",
    "print(s.find_all(\"span\",{\"class\":\"forumheading\"},string=True))\n",
    "\n",
    "# for link in s.findAll('a', {'class':'s-access-detail-page'}):\n",
    "#     tet = link.get('title')\n",
    "#     print(tet)\n",
    "#     tet_2 = link.get('href')\n",
    "#     print(tet_2)\n",
    "\n",
    "# # r.json()"
   ]
  },
  {
   "cell_type": "code",
   "execution_count": null,
   "metadata": {},
   "outputs": [],
   "source": []
  }
 ],
 "metadata": {
  "kernelspec": {
   "display_name": "Python 3",
   "language": "python",
   "name": "python3"
  },
  "language_info": {
   "codemirror_mode": {
    "name": "ipython",
    "version": 3
   },
   "file_extension": ".py",
   "mimetype": "text/x-python",
   "name": "python",
   "nbconvert_exporter": "python",
   "pygments_lexer": "ipython3",
   "version": "3.7.4"
  }
 },
 "nbformat": 4,
 "nbformat_minor": 4
}

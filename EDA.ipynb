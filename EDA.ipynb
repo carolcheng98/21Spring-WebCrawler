{
 "cells": [
  {
   "cell_type": "code",
   "execution_count": 93,
   "metadata": {},
   "outputs": [],
   "source": [
    "import pandas as pd\n",
    "import datetime\n",
    "import numpy as np"
   ]
  },
  {
   "cell_type": "code",
   "execution_count": 70,
   "metadata": {},
   "outputs": [
    {
     "data": {
      "text/html": [
       "<div>\n",
       "<style scoped>\n",
       "    .dataframe tbody tr th:only-of-type {\n",
       "        vertical-align: middle;\n",
       "    }\n",
       "\n",
       "    .dataframe tbody tr th {\n",
       "        vertical-align: top;\n",
       "    }\n",
       "\n",
       "    .dataframe thead th {\n",
       "        text-align: right;\n",
       "    }\n",
       "</style>\n",
       "<table border=\"1\" class=\"dataframe\">\n",
       "  <thead>\n",
       "    <tr style=\"text-align: right;\">\n",
       "      <th></th>\n",
       "      <th>tid</th>\n",
       "      <th>uid</th>\n",
       "      <th>pid</th>\n",
       "      <th>p_content</th>\n",
       "      <th>is_start</th>\n",
       "      <th>p_date</th>\n",
       "    </tr>\n",
       "  </thead>\n",
       "  <tbody>\n",
       "    <tr>\n",
       "      <th>0</th>\n",
       "      <td>2147553329</td>\n",
       "      <td>10052</td>\n",
       "      <td>148064201</td>\n",
       "      <td>\\nALZConnected Moderator's Guidelines for Part...</td>\n",
       "      <td>True</td>\n",
       "      <td>Tuesday, July 21, 2020 6:01 PM</td>\n",
       "    </tr>\n",
       "    <tr>\n",
       "      <th>1</th>\n",
       "      <td>2147553335</td>\n",
       "      <td>10052</td>\n",
       "      <td>148064208</td>\n",
       "      <td>\\nA message from the Alzheimer’s Association d...</td>\n",
       "      <td>True</td>\n",
       "      <td>Tuesday, July 21, 2020 6:12 PM</td>\n",
       "    </tr>\n",
       "    <tr>\n",
       "      <th>2</th>\n",
       "      <td>2147555837</td>\n",
       "      <td>2147706804</td>\n",
       "      <td>148087188</td>\n",
       "      <td>\\nI know PWD often become obsessed with things...</td>\n",
       "      <td>True</td>\n",
       "      <td>Friday, February 26, 2021 2:01 AM</td>\n",
       "    </tr>\n",
       "    <tr>\n",
       "      <th>3</th>\n",
       "      <td>2147555837</td>\n",
       "      <td>2147621224</td>\n",
       "      <td>148087200</td>\n",
       "      <td>\\r\\n\\t\\tGG-My dad's obsession was my late sist...</td>\n",
       "      <td>False</td>\n",
       "      <td>Friday, February 26, 2021 5:16 AM</td>\n",
       "    </tr>\n",
       "    <tr>\n",
       "      <th>4</th>\n",
       "      <td>2147555837</td>\n",
       "      <td>2147749706</td>\n",
       "      <td>148087201</td>\n",
       "      <td>\\nI'm not sure I have an answer but I sure hav...</td>\n",
       "      <td>False</td>\n",
       "      <td>Friday, February 26, 2021 5:26 AM</td>\n",
       "    </tr>\n",
       "    <tr>\n",
       "      <th>...</th>\n",
       "      <td>...</td>\n",
       "      <td>...</td>\n",
       "      <td>...</td>\n",
       "      <td>...</td>\n",
       "      <td>...</td>\n",
       "      <td>...</td>\n",
       "    </tr>\n",
       "    <tr>\n",
       "      <th>268638</th>\n",
       "      <td>2147489985</td>\n",
       "      <td>2147492339</td>\n",
       "      <td>147527298</td>\n",
       "      <td>\\r\\n\\t\\tThinking of you. Hope you can grab som...</td>\n",
       "      <td>False</td>\n",
       "      <td>Tuesday, July 10, 2012 10:38 PM</td>\n",
       "    </tr>\n",
       "    <tr>\n",
       "      <th>268639</th>\n",
       "      <td>2147489985</td>\n",
       "      <td>2147490895</td>\n",
       "      <td>147527301</td>\n",
       "      <td>\\nI am so sorry.  A taught me much about pre g...</td>\n",
       "      <td>False</td>\n",
       "      <td>Tuesday, July 10, 2012 10:52 PM</td>\n",
       "    </tr>\n",
       "    <tr>\n",
       "      <th>268640</th>\n",
       "      <td>2147489985</td>\n",
       "      <td>2147485195</td>\n",
       "      <td>147527302</td>\n",
       "      <td>\\r\\n\\t\\tSo sorry....prayers going out for your...</td>\n",
       "      <td>False</td>\n",
       "      <td>Tuesday, July 10, 2012 11:00 PM</td>\n",
       "    </tr>\n",
       "    <tr>\n",
       "      <th>268641</th>\n",
       "      <td>2147489985</td>\n",
       "      <td>2147489681</td>\n",
       "      <td>147527324</td>\n",
       "      <td>\\r\\n\\t\\tThank you everyone, kindness from \"str...</td>\n",
       "      <td>False</td>\n",
       "      <td>Wednesday, July 11, 2012 4:42 AM</td>\n",
       "    </tr>\n",
       "    <tr>\n",
       "      <th>268642</th>\n",
       "      <td>2147489985</td>\n",
       "      <td>2147484403</td>\n",
       "      <td>147527332</td>\n",
       "      <td>\\r\\n\\t\\tPrayers and gentle hugs being sent to ...</td>\n",
       "      <td>False</td>\n",
       "      <td>Wednesday, July 11, 2012 5:20 AM</td>\n",
       "    </tr>\n",
       "  </tbody>\n",
       "</table>\n",
       "<p>268643 rows × 6 columns</p>\n",
       "</div>"
      ],
      "text/plain": [
       "               tid         uid        pid  \\\n",
       "0       2147553329       10052  148064201   \n",
       "1       2147553335       10052  148064208   \n",
       "2       2147555837  2147706804  148087188   \n",
       "3       2147555837  2147621224  148087200   \n",
       "4       2147555837  2147749706  148087201   \n",
       "...            ...         ...        ...   \n",
       "268638  2147489985  2147492339  147527298   \n",
       "268639  2147489985  2147490895  147527301   \n",
       "268640  2147489985  2147485195  147527302   \n",
       "268641  2147489985  2147489681  147527324   \n",
       "268642  2147489985  2147484403  147527332   \n",
       "\n",
       "                                                p_content  is_start  \\\n",
       "0       \\nALZConnected Moderator's Guidelines for Part...      True   \n",
       "1       \\nA message from the Alzheimer’s Association d...      True   \n",
       "2       \\nI know PWD often become obsessed with things...      True   \n",
       "3       \\r\\n\\t\\tGG-My dad's obsession was my late sist...     False   \n",
       "4       \\nI'm not sure I have an answer but I sure hav...     False   \n",
       "...                                                   ...       ...   \n",
       "268638  \\r\\n\\t\\tThinking of you. Hope you can grab som...     False   \n",
       "268639  \\nI am so sorry.  A taught me much about pre g...     False   \n",
       "268640  \\r\\n\\t\\tSo sorry....prayers going out for your...     False   \n",
       "268641  \\r\\n\\t\\tThank you everyone, kindness from \"str...     False   \n",
       "268642  \\r\\n\\t\\tPrayers and gentle hugs being sent to ...     False   \n",
       "\n",
       "                                   p_date  \n",
       "0          Tuesday, July 21, 2020 6:01 PM  \n",
       "1          Tuesday, July 21, 2020 6:12 PM  \n",
       "2       Friday, February 26, 2021 2:01 AM  \n",
       "3       Friday, February 26, 2021 5:16 AM  \n",
       "4       Friday, February 26, 2021 5:26 AM  \n",
       "...                                   ...  \n",
       "268638    Tuesday, July 10, 2012 10:38 PM  \n",
       "268639    Tuesday, July 10, 2012 10:52 PM  \n",
       "268640    Tuesday, July 10, 2012 11:00 PM  \n",
       "268641   Wednesday, July 11, 2012 4:42 AM  \n",
       "268642   Wednesday, July 11, 2012 5:20 AM  \n",
       "\n",
       "[268643 rows x 6 columns]"
      ]
     },
     "execution_count": 70,
     "metadata": {},
     "output_type": "execute_result"
    }
   ],
   "source": [
    "df_posts_caregiver=pd.read_csv('posts_Caregivers Forum.csv')\n",
    "df_posts_caregiver"
   ]
  },
  {
   "cell_type": "code",
   "execution_count": 136,
   "metadata": {},
   "outputs": [],
   "source": [
    "df_users_caregiver = pd.read_csv('user_caregiver_foum.csv')"
   ]
  },
  {
   "cell_type": "code",
   "execution_count": 132,
   "metadata": {},
   "outputs": [],
   "source": [
    "df_users_all = pd.read_csv(\"user_all_forums.csv\")"
   ]
  },
  {
   "cell_type": "code",
   "execution_count": 62,
   "metadata": {},
   "outputs": [
    {
     "data": {
      "text/plain": [
       "uid           int64\n",
       "username     object\n",
       "join_date    object\n",
       "num_post      int64\n",
       "dtype: object"
      ]
     },
     "execution_count": 62,
     "metadata": {},
     "output_type": "execute_result"
    }
   ],
   "source": [
    "dp2 = user_all.loc[user_all['num_post']<500]\n",
    "dp2.dtypes"
   ]
  },
  {
   "cell_type": "code",
   "execution_count": 30,
   "metadata": {},
   "outputs": [],
   "source": [
    "import seaborn as sns"
   ]
  },
  {
   "cell_type": "code",
   "execution_count": 64,
   "metadata": {},
   "outputs": [],
   "source": [
    "p = pd.Series(user_all['num_post'],name=\"number of total posts\")\n",
    "p2 = pd.Series(dp2['num_post'],name=\"number of total posts\")"
   ]
  },
  {
   "cell_type": "code",
   "execution_count": 65,
   "metadata": {},
   "outputs": [
    {
     "data": {
      "image/png": "[encoded data removed]",
      "text/plain": [
       "<Figure size 432x288 with 1 Axes>"
      ]
     },
     "metadata": {
      "needs_background": "light"
     },
     "output_type": "display_data"
    }
   ],
   "source": [
    "ax = sns.distplot(p2)"
   ]
  },
  {
   "cell_type": "code",
   "execution_count": 66,
   "metadata": {},
   "outputs": [
    {
     "data": {
      "image/png": "[encoded data removed]",
      "text/plain": [
       "<Figure size 432x288 with 1 Axes>"
      ]
     },
     "metadata": {
      "needs_background": "light"
     },
     "output_type": "display_data"
    }
   ],
   "source": [
    "ax2 = sns.distplot(p)"
   ]
  },
  {
   "cell_type": "code",
   "execution_count": 117,
   "metadata": {},
   "outputs": [
    {
     "data": {
      "text/plain": [
       "0        3127\n",
       "1           0\n",
       "2        3116\n",
       "3           0\n",
       "4           4\n",
       "         ... \n",
       "14774       0\n",
       "14775       0\n",
       "14776       0\n",
       "14777       0\n",
       "14778       0\n",
       "Name: days between first and last posts, Length: 14779, dtype: int64"
      ]
     },
     "execution_count": 117,
     "metadata": {},
     "output_type": "execute_result"
    }
   ],
   "source": [
    "d = pd.Series(gb['date_delta'],name=\"days between first and last posts\")\n",
    "d"
   ]
  },
  {
   "cell_type": "code",
   "execution_count": 118,
   "metadata": {},
   "outputs": [
    {
     "data": {
      "image/png": "[encoded data removed]",
      "text/plain": [
       "<Figure size 432x288 with 1 Axes>"
      ]
     },
     "metadata": {
      "needs_background": "light"
     },
     "output_type": "display_data"
    }
   ],
   "source": [
    "ax3 = sns.distplot(d)"
   ]
  },
  {
   "cell_type": "code",
   "execution_count": 124,
   "metadata": {},
   "outputs": [],
   "source": [
    "def convert_day(strdate):\n",
    "    day_dict = {'Monday': 1,\n",
    "               'Tuesday': 2,\n",
    "               'Wednesday': 3,\n",
    "               'Thursday': 4,\n",
    "               'Friday': 5,\n",
    "               'Saturday': 6,\n",
    "               'Sunday': 7\n",
    "               }\n",
    "    day = day_dict[strdate.split(',')[0]]\n",
    "    return day\n",
    "\n",
    "def convert_date(strdate):\n",
    "    month_dict = {\n",
    "            'January' : 1,\n",
    "            'February' : 2,\n",
    "            'March' : 3,\n",
    "            'April' : 4,\n",
    "            'May' : 5,\n",
    "            'June' : 6,\n",
    "            'July' : 7,\n",
    "            'August' : 8,\n",
    "            'September' : 9, \n",
    "            'October' : 10,\n",
    "            'November' : 11,\n",
    "            'December' : 12\n",
    "    }\n",
    "    strdate = strdate.replace(' ',',')\n",
    "    month = month_dict[strdate.split(',')[2]]\n",
    "    d = strdate.split(',')[3]\n",
    "    yr = strdate.split(',')[5]\n",
    "    date= '{}-{}-{}'.format(yr,month,d)\n",
    "    dt = datetime.datetime.strptime(date, '%Y-%m-%d')\n",
    "    return dt\n",
    "\n",
    "def get_time_delta_col(df_posts):\n",
    "    a = df_posts['p_date']\n",
    "    df_posts['date']=df_posts['p_date'].apply(convert_date)\n",
    "    \n",
    "    gb = df_posts.groupby('uid')\n",
    "    gb = gb.agg(min_date=('date',np.min), max_date=('date',np.max)).reset_index()\n",
    "    gb['date_delta'] = (gb['max_date']-gb['min_date']).dt.days\n",
    "    \n",
    "    return gb"
   ]
  },
  {
   "cell_type": "code",
   "execution_count": 128,
   "metadata": {},
   "outputs": [],
   "source": [
    "def plot_dist(df, col, colname, title):\n",
    "    d = pd.Series(df[col],name=colname)\n",
    "    a = sns.distplot(d).set_title(title)\n",
    "    return a"
   ]
  },
  {
   "cell_type": "code",
   "execution_count": 131,
   "metadata": {},
   "outputs": [
    {
     "data": {
      "text/plain": [
       "Text(0.5, 1.0, 'b')"
      ]
     },
     "execution_count": 131,
     "metadata": {},
     "output_type": "execute_result"
    },
    {
     "data": {
      "image/png": "[encoded data removed]",
      "text/plain": [
       "<Figure size 432x288 with 1 Axes>"
      ]
     },
     "metadata": {
      "needs_background": "light"
     },
     "output_type": "display_data"
    }
   ],
   "source": [
    "gb = get_time_delta_col(df_posts)\n",
    "plot_dist(gb,'date_delta','a','b')"
   ]
  },
  {
   "cell_type": "code",
   "execution_count": 130,
   "metadata": {},
   "outputs": [
    {
     "data": {
      "text/html": [
       "<div>\n",
       "<style scoped>\n",
       "    .dataframe tbody tr th:only-of-type {\n",
       "        vertical-align: middle;\n",
       "    }\n",
       "\n",
       "    .dataframe tbody tr th {\n",
       "        vertical-align: top;\n",
       "    }\n",
       "\n",
       "    .dataframe thead th {\n",
       "        text-align: right;\n",
       "    }\n",
       "</style>\n",
       "<table border=\"1\" class=\"dataframe\">\n",
       "  <thead>\n",
       "    <tr style=\"text-align: right;\">\n",
       "      <th></th>\n",
       "      <th>uid</th>\n",
       "      <th>min_date</th>\n",
       "      <th>max_date</th>\n",
       "      <th>date_delta</th>\n",
       "    </tr>\n",
       "  </thead>\n",
       "  <tbody>\n",
       "    <tr>\n",
       "      <th>0</th>\n",
       "      <td>0</td>\n",
       "      <td>2011-11-29</td>\n",
       "      <td>2020-06-21</td>\n",
       "      <td>3127 days</td>\n",
       "    </tr>\n",
       "    <tr>\n",
       "      <th>1</th>\n",
       "      <td>1</td>\n",
       "      <td>2015-09-24</td>\n",
       "      <td>2015-09-24</td>\n",
       "      <td>0 days</td>\n",
       "    </tr>\n",
       "    <tr>\n",
       "      <th>2</th>\n",
       "      <td>10052</td>\n",
       "      <td>2012-01-11</td>\n",
       "      <td>2020-07-23</td>\n",
       "      <td>3116 days</td>\n",
       "    </tr>\n",
       "    <tr>\n",
       "      <th>3</th>\n",
       "      <td>2147483678</td>\n",
       "      <td>2011-11-14</td>\n",
       "      <td>2011-11-14</td>\n",
       "      <td>0 days</td>\n",
       "    </tr>\n",
       "    <tr>\n",
       "      <th>4</th>\n",
       "      <td>2147483806</td>\n",
       "      <td>2011-12-05</td>\n",
       "      <td>2011-12-09</td>\n",
       "      <td>4 days</td>\n",
       "    </tr>\n",
       "    <tr>\n",
       "      <th>...</th>\n",
       "      <td>...</td>\n",
       "      <td>...</td>\n",
       "      <td>...</td>\n",
       "      <td>...</td>\n",
       "    </tr>\n",
       "    <tr>\n",
       "      <th>14774</th>\n",
       "      <td>2147764635</td>\n",
       "      <td>2021-03-01</td>\n",
       "      <td>2021-03-01</td>\n",
       "      <td>0 days</td>\n",
       "    </tr>\n",
       "    <tr>\n",
       "      <th>14775</th>\n",
       "      <td>2147764676</td>\n",
       "      <td>2021-03-05</td>\n",
       "      <td>2021-03-05</td>\n",
       "      <td>0 days</td>\n",
       "    </tr>\n",
       "    <tr>\n",
       "      <th>14776</th>\n",
       "      <td>2147764686</td>\n",
       "      <td>2021-03-01</td>\n",
       "      <td>2021-03-01</td>\n",
       "      <td>0 days</td>\n",
       "    </tr>\n",
       "    <tr>\n",
       "      <th>14777</th>\n",
       "      <td>2147764705</td>\n",
       "      <td>2021-03-01</td>\n",
       "      <td>2021-03-01</td>\n",
       "      <td>0 days</td>\n",
       "    </tr>\n",
       "    <tr>\n",
       "      <th>14778</th>\n",
       "      <td>2147765054</td>\n",
       "      <td>2021-03-05</td>\n",
       "      <td>2021-03-05</td>\n",
       "      <td>0 days</td>\n",
       "    </tr>\n",
       "  </tbody>\n",
       "</table>\n",
       "<p>14779 rows × 4 columns</p>\n",
       "</div>"
      ],
      "text/plain": [
       "              uid   min_date   max_date date_delta\n",
       "0               0 2011-11-29 2020-06-21  3127 days\n",
       "1               1 2015-09-24 2015-09-24     0 days\n",
       "2           10052 2012-01-11 2020-07-23  3116 days\n",
       "3      2147483678 2011-11-14 2011-11-14     0 days\n",
       "4      2147483806 2011-12-05 2011-12-09     4 days\n",
       "...           ...        ...        ...        ...\n",
       "14774  2147764635 2021-03-01 2021-03-01     0 days\n",
       "14775  2147764676 2021-03-05 2021-03-05     0 days\n",
       "14776  2147764686 2021-03-01 2021-03-01     0 days\n",
       "14777  2147764705 2021-03-01 2021-03-01     0 days\n",
       "14778  2147765054 2021-03-05 2021-03-05     0 days\n",
       "\n",
       "[14779 rows x 4 columns]"
      ]
     },
     "execution_count": 130,
     "metadata": {},
     "output_type": "execute_result"
    }
   ],
   "source": [
    "gb"
   ]
  },
  {
   "cell_type": "code",
   "execution_count": null,
   "metadata": {},
   "outputs": [],
   "source": []
  }
 ],
 "metadata": {
  "kernelspec": {
   "display_name": "Python 3",
   "language": "python",
   "name": "python3"
  },
  "language_info": {
   "codemirror_mode": {
    "name": "ipython",
    "version": 3
   },
   "file_extension": ".py",
   "mimetype": "text/x-python",
   "name": "python",
   "nbconvert_exporter": "python",
   "pygments_lexer": "ipython3",
   "version": "3.7.4"
  }
 },
 "nbformat": 4,
 "nbformat_minor": 4
}

{
 "cells": [
  {
   "cell_type": "code",
   "execution_count": 11,
   "metadata": {},
   "outputs": [],
   "source": [
    "import pandas as pd\n",
    "import numpy as np\n",
    "import datetime"
   ]
  },
  {
   "cell_type": "code",
   "execution_count": 26,
   "metadata": {},
   "outputs": [
    {
     "name": "stdout",
     "output_type": "stream",
     "text": [
      "topics_ALZConnected News You Can Use.csv\r\n",
      "topics_Caregivers Forum.csv\r\n",
      "topics_Caregivers Who Have Lost Someone.csv\r\n",
      "topics_Clinical Trials.csv\r\n",
      "topics_Discusiones en Español.csv\r\n",
      "topics_I Have Alzheimer’s or Another Dementia.csv\r\n",
      "topics_LGBT Community and Allies.csv\r\n",
      "topics_Musings.csv\r\n",
      "topics_Spouse or Partner Caregiver Forum.csv\r\n",
      "topics_Younger-Onset AD or Other Dementia.csv\r\n"
     ]
    }
   ],
   "source": [
    "%ls topic"
   ]
  },
  {
   "cell_type": "code",
   "execution_count": 24,
   "metadata": {},
   "outputs": [],
   "source": []
  },
  {
   "cell_type": "code",
   "execution_count": 9,
   "metadata": {},
   "outputs": [],
   "source": [
    "df_forum1 = pd.read_csv('posts_LGBT Community and Allies.csv')\n",
    "df_forum2 = pd.read_csv('posts_Caregivers Who Have Lost Someone.csv')"
   ]
  },
  {
   "cell_type": "code",
   "execution_count": 32,
   "metadata": {},
   "outputs": [
    {
     "data": {
      "text/html": [
       "<div>\n",
       "<style scoped>\n",
       "    .dataframe tbody tr th:only-of-type {\n",
       "        vertical-align: middle;\n",
       "    }\n",
       "\n",
       "    .dataframe tbody tr th {\n",
       "        vertical-align: top;\n",
       "    }\n",
       "\n",
       "    .dataframe thead th {\n",
       "        text-align: right;\n",
       "    }\n",
       "</style>\n",
       "<table border=\"1\" class=\"dataframe\">\n",
       "  <thead>\n",
       "    <tr style=\"text-align: right;\">\n",
       "      <th></th>\n",
       "      <th>tid</th>\n",
       "      <th>uid</th>\n",
       "      <th>pid</th>\n",
       "      <th>p_content</th>\n",
       "      <th>is_start</th>\n",
       "      <th>p_date</th>\n",
       "      <th>date</th>\n",
       "      <th>fid</th>\n",
       "    </tr>\n",
       "  </thead>\n",
       "  <tbody>\n",
       "    <tr>\n",
       "      <th>0</th>\n",
       "      <td>2147553392</td>\n",
       "      <td>10052</td>\n",
       "      <td>148064636</td>\n",
       "      <td>\\nALZConnected Moderator's Guidelines for Part...</td>\n",
       "      <td>True</td>\n",
       "      <td>Friday, July 24, 2020 2:43 PM</td>\n",
       "      <td>2020-07-24</td>\n",
       "      <td>461</td>\n",
       "    </tr>\n",
       "    <tr>\n",
       "      <th>1</th>\n",
       "      <td>2147555766</td>\n",
       "      <td>2147756902</td>\n",
       "      <td>148086674</td>\n",
       "      <td>\\r\\n\\t\\tYesterday mom only drank about 1/4 of ...</td>\n",
       "      <td>True</td>\n",
       "      <td>Saturday, February 20, 2021 11:24 PM</td>\n",
       "      <td>2021-02-20</td>\n",
       "      <td>461</td>\n",
       "    </tr>\n",
       "    <tr>\n",
       "      <th>13</th>\n",
       "      <td>2147554349</td>\n",
       "      <td>2147534216</td>\n",
       "      <td>148074040</td>\n",
       "      <td>\\nYesterday was mom's 1 year death anniversary...</td>\n",
       "      <td>True</td>\n",
       "      <td>Thursday, October 15, 2020 11:28 PM</td>\n",
       "      <td>2020-10-15</td>\n",
       "      <td>461</td>\n",
       "    </tr>\n",
       "    <tr>\n",
       "      <th>25</th>\n",
       "      <td>2147555751</td>\n",
       "      <td>2147713639</td>\n",
       "      <td>148086558</td>\n",
       "      <td>\\n \\nI've entered the last stage of Grieving, ...</td>\n",
       "      <td>True</td>\n",
       "      <td>Friday, February 19, 2021 8:44 PM</td>\n",
       "      <td>2021-02-19</td>\n",
       "      <td>461</td>\n",
       "    </tr>\n",
       "    <tr>\n",
       "      <th>28</th>\n",
       "      <td>2147555737</td>\n",
       "      <td>2147713639</td>\n",
       "      <td>148086454</td>\n",
       "      <td>\\nHi,\\n\\nI responded to your post on my thread...</td>\n",
       "      <td>True</td>\n",
       "      <td>Thursday, February 18, 2021 9:16 PM</td>\n",
       "      <td>2021-02-18</td>\n",
       "      <td>461</td>\n",
       "    </tr>\n",
       "    <tr>\n",
       "      <th>...</th>\n",
       "      <td>...</td>\n",
       "      <td>...</td>\n",
       "      <td>...</td>\n",
       "      <td>...</td>\n",
       "      <td>...</td>\n",
       "      <td>...</td>\n",
       "      <td>...</td>\n",
       "      <td>...</td>\n",
       "    </tr>\n",
       "    <tr>\n",
       "      <th>8588</th>\n",
       "      <td>2147484994</td>\n",
       "      <td>2147484128</td>\n",
       "      <td>147491037</td>\n",
       "      <td>\\nAnd I am lost, feel like I'm in a daze. I ca...</td>\n",
       "      <td>True</td>\n",
       "      <td>Sunday, January 15, 2012 12:31 AM</td>\n",
       "      <td>2012-01-15</td>\n",
       "      <td>461</td>\n",
       "    </tr>\n",
       "    <tr>\n",
       "      <th>8596</th>\n",
       "      <td>2147483899</td>\n",
       "      <td>2147483906</td>\n",
       "      <td>147483756</td>\n",
       "      <td>\\r\\n\\t\\tHope that you find this new format mor...</td>\n",
       "      <td>True</td>\n",
       "      <td>Wednesday, November 30, 2011 9:02 AM</td>\n",
       "      <td>2011-11-30</td>\n",
       "      <td>461</td>\n",
       "    </tr>\n",
       "    <tr>\n",
       "      <th>8600</th>\n",
       "      <td>2147484648</td>\n",
       "      <td>2147484022</td>\n",
       "      <td>147488130</td>\n",
       "      <td>\\nDuring my short time  on Chat and message bo...</td>\n",
       "      <td>True</td>\n",
       "      <td>Tuesday, January 3, 2012 10:52 PM</td>\n",
       "      <td>2012-01-03</td>\n",
       "      <td>461</td>\n",
       "    </tr>\n",
       "    <tr>\n",
       "      <th>8601</th>\n",
       "      <td>2147484576</td>\n",
       "      <td>2147484463</td>\n",
       "      <td>147487508</td>\n",
       "      <td>\\n \\nMaybe sort of like a heroin addict needin...</td>\n",
       "      <td>True</td>\n",
       "      <td>Sunday, January 1, 2012 8:27 AM</td>\n",
       "      <td>2012-01-01</td>\n",
       "      <td>461</td>\n",
       "    </tr>\n",
       "    <tr>\n",
       "      <th>8604</th>\n",
       "      <td>2147529209</td>\n",
       "      <td>2147484007</td>\n",
       "      <td>147849401</td>\n",
       "      <td>\\r\\n\\t\\tI've been caring for my dad for the pa...</td>\n",
       "      <td>True</td>\n",
       "      <td>Tuesday, September 27, 2016 1:26 PM</td>\n",
       "      <td>2016-09-27</td>\n",
       "      <td>461</td>\n",
       "    </tr>\n",
       "  </tbody>\n",
       "</table>\n",
       "<p>1171 rows × 8 columns</p>\n",
       "</div>"
      ],
      "text/plain": [
       "             tid         uid        pid  \\\n",
       "0     2147553392       10052  148064636   \n",
       "1     2147555766  2147756902  148086674   \n",
       "13    2147554349  2147534216  148074040   \n",
       "25    2147555751  2147713639  148086558   \n",
       "28    2147555737  2147713639  148086454   \n",
       "...          ...         ...        ...   \n",
       "8588  2147484994  2147484128  147491037   \n",
       "8596  2147483899  2147483906  147483756   \n",
       "8600  2147484648  2147484022  147488130   \n",
       "8601  2147484576  2147484463  147487508   \n",
       "8604  2147529209  2147484007  147849401   \n",
       "\n",
       "                                              p_content  is_start  \\\n",
       "0     \\nALZConnected Moderator's Guidelines for Part...      True   \n",
       "1     \\r\\n\\t\\tYesterday mom only drank about 1/4 of ...      True   \n",
       "13    \\nYesterday was mom's 1 year death anniversary...      True   \n",
       "25    \\n \\nI've entered the last stage of Grieving, ...      True   \n",
       "28    \\nHi,\\n\\nI responded to your post on my thread...      True   \n",
       "...                                                 ...       ...   \n",
       "8588  \\nAnd I am lost, feel like I'm in a daze. I ca...      True   \n",
       "8596  \\r\\n\\t\\tHope that you find this new format mor...      True   \n",
       "8600  \\nDuring my short time  on Chat and message bo...      True   \n",
       "8601  \\n \\nMaybe sort of like a heroin addict needin...      True   \n",
       "8604  \\r\\n\\t\\tI've been caring for my dad for the pa...      True   \n",
       "\n",
       "                                    p_date       date  fid  \n",
       "0            Friday, July 24, 2020 2:43 PM 2020-07-24  461  \n",
       "1     Saturday, February 20, 2021 11:24 PM 2021-02-20  461  \n",
       "13     Thursday, October 15, 2020 11:28 PM 2020-10-15  461  \n",
       "25       Friday, February 19, 2021 8:44 PM 2021-02-19  461  \n",
       "28     Thursday, February 18, 2021 9:16 PM 2021-02-18  461  \n",
       "...                                    ...        ...  ...  \n",
       "8588     Sunday, January 15, 2012 12:31 AM 2012-01-15  461  \n",
       "8596  Wednesday, November 30, 2011 9:02 AM 2011-11-30  461  \n",
       "8600     Tuesday, January 3, 2012 10:52 PM 2012-01-03  461  \n",
       "8601       Sunday, January 1, 2012 8:27 AM 2012-01-01  461  \n",
       "8604   Tuesday, September 27, 2016 1:26 PM 2016-09-27  461  \n",
       "\n",
       "[1171 rows x 8 columns]"
      ]
     },
     "execution_count": 32,
     "metadata": {},
     "output_type": "execute_result"
    }
   ],
   "source": [
    "df_forum2"
   ]
  },
  {
   "cell_type": "code",
   "execution_count": 31,
   "metadata": {},
   "outputs": [
    {
     "name": "stderr",
     "output_type": "stream",
     "text": [
      "/Users/carolcheng/opt/anaconda3/lib/python3.7/site-packages/ipykernel_launcher.py:2: SettingWithCopyWarning: \n",
      "A value is trying to be set on a copy of a slice from a DataFrame.\n",
      "Try using .loc[row_indexer,col_indexer] = value instead\n",
      "\n",
      "See the caveats in the documentation: https://pandas.pydata.org/pandas-docs/stable/user_guide/indexing.html#returning-a-view-versus-a-copy\n",
      "  \n"
     ]
    }
   ],
   "source": [
    "# some cleaning and filtering\n",
    "df_forum1['fid'] = 2147806999\n",
    "df_forum2['fid'] = 461\n",
    "\n",
    "df_forum1 = df_forum1.loc[df_forum1['is_start'] == True]\n",
    "df_forum2 = df_forum2.loc[df_forum2['is_start'] == True]"
   ]
  },
  {
   "cell_type": "code",
   "execution_count": 33,
   "metadata": {},
   "outputs": [],
   "source": [
    "def convert_day(strdate):\n",
    "    day_dict = {'Monday': 1,\n",
    "               'Tuesday': 2,\n",
    "               'Wednesday': 3,\n",
    "               'Thursday': 4,\n",
    "               'Friday': 5,\n",
    "               'Saturday': 6,\n",
    "               'Sunday': 7\n",
    "               }\n",
    "    day = day_dict[strdate.split(',')[0]]\n",
    "    return day\n",
    "\n",
    "def convert_date(strdate):\n",
    "    month_dict = {\n",
    "            'January' : 1,\n",
    "            'February' : 2,\n",
    "            'March' : 3,\n",
    "            'April' : 4,\n",
    "            'May' : 5,\n",
    "            'June' : 6,\n",
    "            'July' : 7,\n",
    "            'August' : 8,\n",
    "            'September' : 9, \n",
    "            'October' : 10,\n",
    "            'November' : 11,\n",
    "            'December' : 12\n",
    "    }\n",
    "    strdate = strdate.replace(' ',',')\n",
    "    month = month_dict[strdate.split(',')[2]]\n",
    "    d = strdate.split(',')[3]\n",
    "    yr = strdate.split(',')[5]\n",
    "    date= '{}-{}-{}'.format(yr,month,d)\n",
    "    dt = datetime.datetime.strptime(date, '%Y-%m-%d')\n",
    "    return dt\n",
    "\n",
    "def get_date_col(df_posts):\n",
    "    a = df_posts['p_date']\n",
    "    df_posts['date']=df_posts['p_date'].apply(convert_date)\n",
    "    return df_posts"
   ]
  },
  {
   "cell_type": "code",
   "execution_count": 34,
   "metadata": {},
   "outputs": [
    {
     "name": "stderr",
     "output_type": "stream",
     "text": [
      "/Users/carolcheng/opt/anaconda3/lib/python3.7/site-packages/ipykernel_launcher.py:38: SettingWithCopyWarning: \n",
      "A value is trying to be set on a copy of a slice from a DataFrame.\n",
      "Try using .loc[row_indexer,col_indexer] = value instead\n",
      "\n",
      "See the caveats in the documentation: https://pandas.pydata.org/pandas-docs/stable/user_guide/indexing.html#returning-a-view-versus-a-copy\n"
     ]
    }
   ],
   "source": [
    "df_forum1_date = get_date_col(df_forum1)\n",
    "df_forum2_date = get_date_col(df_forum2)"
   ]
  },
  {
   "cell_type": "code",
   "execution_count": 21,
   "metadata": {},
   "outputs": [],
   "source": [
    "def rearrange (df, keep_col):\n",
    "    return df[keep_col]"
   ]
  },
  {
   "cell_type": "code",
   "execution_count": 35,
   "metadata": {},
   "outputs": [],
   "source": [
    "forum1 = rearrange(df_forum1_date,['p_content','date','fid'])\n",
    "forum2 = rearrange(df_forum2_date,['p_content','date','fid'])"
   ]
  },
  {
   "cell_type": "code",
   "execution_count": 47,
   "metadata": {},
   "outputs": [],
   "source": [
    "all= pd.concat([forum1, forum2], join=\"inner\").reset_index()"
   ]
  },
  {
   "cell_type": "code",
   "execution_count": 54,
   "metadata": {},
   "outputs": [],
   "source": [
    "all.to_csv(\"test_2forum.csv\", index=False)"
   ]
  },
  {
   "cell_type": "code",
   "execution_count": 50,
   "metadata": {},
   "outputs": [],
   "source": [
    "def get_year (date):\n",
    "    return date.year"
   ]
  },
  {
   "cell_type": "code",
   "execution_count": 52,
   "metadata": {},
   "outputs": [],
   "source": [
    "all['year'] = all['date'].apply(get_year) "
   ]
  },
  {
   "cell_type": "code",
   "execution_count": 55,
   "metadata": {},
   "outputs": [
    {
     "data": {
      "text/plain": [
       "2012    241\n",
       "2016    213\n",
       "2013    168\n",
       "2015    153\n",
       "2018    111\n",
       "2017    104\n",
       "2020     93\n",
       "2014     92\n",
       "2019     79\n",
       "2021     11\n",
       "2011      3\n",
       "Name: year, dtype: int64"
      ]
     },
     "execution_count": 55,
     "metadata": {},
     "output_type": "execute_result"
    }
   ],
   "source": [
    "all['year'].value_counts()"
   ]
  },
  {
   "cell_type": "code",
   "execution_count": null,
   "metadata": {},
   "outputs": [],
   "source": []
  }
 ],
 "metadata": {
  "kernelspec": {
   "display_name": "Python 3",
   "language": "python",
   "name": "python3"
  },
  "language_info": {
   "codemirror_mode": {
    "name": "ipython",
    "version": 3
   },
   "file_extension": ".py",
   "mimetype": "text/x-python",
   "name": "python",
   "nbconvert_exporter": "python",
   "pygments_lexer": "ipython3",
   "version": "3.7.4"
  }
 },
 "nbformat": 4,
 "nbformat_minor": 4
}
